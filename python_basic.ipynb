{
  "cells": [
    {
      "cell_type": "code",
      "execution_count": null,
      "metadata": {
        "id": "qkoGzmPzt2dN"
      },
      "outputs": [],
      "source": [
        "# 1. What are data structures, and why are they important?\n",
        "# answer= Data structures are ways of organizing and storing data in a computer so that they can be used efficiently.\n",
        "# They define the relationship between the data and the operations that can be performed on the data.\n",
        "# In Python, data structures are crucial for efficient problem-solving and algorithm design.\n"
      ]
    },
    {
      "cell_type": "code",
      "execution_count": null,
      "metadata": {
        "id": "WyBUoPIou_R-"
      },
      "outputs": [],
      "source": [
        "#2.  Explain the difference between mutable and immutable data types with examples\n",
        "# answer = mutable data types allow their values to be modified after creation,\n",
        "# while immutable data types cannot be changed once created. If you try to change an immutable object,\n",
        "#you'll typically get a new object with the modified value, rather than modifying the original.\n",
        "## example = Mutable Data Types:\n",
        "#Lists: Lists are ordered collections of items that can be changed. You can add, remove, or modify elements after the list is created.\n",
        "#Dictionaries: Dictionaries store data in key-value pairs, and their contents can be changed.\n",
        "#Sets: Sets are unordered collections of unique items. Elements can be added or removed after the set is created, according to Dataquest.\n",
        "## Immutable Data Types:\n",
        "# Strings: Strings are sequences of characters and cannot be modified after creation, as mentioned by Google for Developers. If you try to change a string, you'll get a new string with the modification.\n",
        "#Tuples: Tuples are ordered collections of items, but unlike lists, they cannot be modified after creation."
      ]
    },
    {
      "cell_type": "code",
      "execution_count": null,
      "metadata": {
        "id": "sdYXm6vDwV7t"
      },
      "outputs": [],
      "source": [
        "# 3. What are the main differences between lists and tuples in Python?\n",
        "#answer = Lists are mutable:\n",
        "#After creation, elements within a list can be modified, added, or removed. This dynamic nature makes lists suitable for scenarios where data manipulation is frequent.\n",
        "#Tuples are immutable:\n",
        "#Once a tuple is created, its contents are fixed and cannot be altered. This immutability ensures data integrity and makes tuples ideal for representing fixed collections of data.\n"
      ]
    },
    {
      "cell_type": "code",
      "execution_count": null,
      "metadata": {
        "id": "LmXluXjCw_ZI"
      },
      "outputs": [],
      "source": [
        "# 4.Describe how dictionaries store data.\n",
        "#answer = Dictionaries are unordered collections of data and are represented with curly brackets { } .\n",
        "# Like lists, dictionaries are mutable(changeable) and indexed. With dictionaries, data is stored in a key:value format.\n",
        "# In this example, myCar is the variable that we have assigned our dictionary to.\n"
      ]
    },
    {
      "cell_type": "code",
      "execution_count": null,
      "metadata": {
        "id": "fQQ4LP_AzXCP"
      },
      "outputs": [],
      "source": [
        "# 5.Why might you use a set instead of a list in Python?\n",
        "#answer Lists are suitable for ordered collections that allow duplicates, while Sets are suitable for unordered collections of unique elements.\n",
        "# By understanding the differences between them, you can choose the appropriate interface for your specific use case."
      ]
    },
    {
      "cell_type": "code",
      "execution_count": null,
      "metadata": {
        "id": "ddle_vaJz0ZN"
      },
      "outputs": [],
      "source": [
        "# 6.What is a string in Python, and how is it different from a list?\n",
        "#answer 1 - Strings in Python are sequences of characters enclosed in quotes ('' or “”). Lists are ordered collections of items enclosed in square brackets [].\n",
        "\n",
        "# 2) Strings are immutable, meaning they cannot be changed once created, while lists are mutable and can be modified as needed.\n",
        "\n"
      ]
    },
    {
      "cell_type": "code",
      "execution_count": null,
      "metadata": {
        "id": "Gpp871rG0lYR"
      },
      "outputs": [],
      "source": [
        "# 7.How do tuples ensure data integrity in Python.\n",
        "#answer Tuples in Python ensure data integrity through their immutability. Once a tuple is created, its elements cannot be modified, added, or removed. This characteristic is crucial for maintaining the consistency and reliability of data, especially in scenarios where data should remain constant throughout its lifecycle.\n",
        "#Immutability prevents accidental or unintended changes to the data stored in a tuple. This is beneficial in situations where data needs to be protected from modification, such as storing fixed settings, representing records in a database, or using tuples as keys in dictionaries. The immutability of tuples guarantees that the data remains unchanged, ensuring data integrity."
      ]
    },
    {
      "cell_type": "code",
      "execution_count": null,
      "metadata": {
        "id": "Zdpw1TVK1Lou"
      },
      "outputs": [],
      "source": [
        "# 8. What is a hash table, and how does it relate to dictionaries in Python?\n",
        "#answer the Dictionary data types represent the implementation of hash tables.\n",
        "#The Keys in the dictionary are hashable–they are generated by a hash function which generates a unique result for each unique value supplied to the hash function."
      ]
    },
    {
      "cell_type": "code",
      "execution_count": null,
      "metadata": {
        "id": "4wcIn7kp1lwF"
      },
      "outputs": [],
      "source": [
        "# 9.Can lists contain different data types in Python?\n",
        "#answer = Yes, lists in Python can contain elements of different data types. Python lists are versatile and allow for the storage of a mix of data types within the same list, such as integers, strings, floats, booleans, and even other lists or dictionaries."
      ]
    },
    {
      "cell_type": "code",
      "execution_count": null,
      "metadata": {
        "id": "M9nQvh-W2dGe"
      },
      "outputs": [],
      "source": [
        "#10. Explain why strings are immutable in Python.\n",
        "#answer = Strings are immutable in Python for reasons related to efficiency, safety, and design principles. Once a string is created, its value cannot be changed. Any operation that appears to modify a string actually creates a new string object.\n"
      ]
    },
    {
      "cell_type": "code",
      "execution_count": null,
      "metadata": {
        "id": "gMTFm6uD3Hj2"
      },
      "outputs": [],
      "source": [
        "# 11.What advantages do dictionaries offer over lists for certain tasks?\n",
        "#answer = ictionaries are highly important in Python due to their fast access time and flexibility. They allow for quick data retrieval based on keys, which can significantly speed up the performance of a program, especially when dealing with large datasets"
      ]
    },
    {
      "cell_type": "code",
      "execution_count": null,
      "metadata": {
        "id": "1Pu0x5_I3at1"
      },
      "outputs": [],
      "source": [
        "# 12.Describe a scenario where using a tuple would be preferable over a list.\n",
        "#answer = Use a list if you need a mutable collection of items where you may need to add, remove, or change elements. Lists are more flexible and have more built-in methods, making them ideal for dynamic collections.\n",
        "# Use a tuple if you need an immutable collection where the elements won't change after creation."
      ]
    },
    {
      "cell_type": "code",
      "execution_count": null,
      "metadata": {
        "id": "cugF-o9H3sL1"
      },
      "outputs": [],
      "source": [
        "#13. How do sets handle duplicate values in Python?\n",
        "# answer =n Python, sets are designed to store only unique elements. When attempting to add a duplicate value to a set, it is automatically discarded, ensuring that the set maintains its uniqueness property. This behavior is fundamental to the nature of sets as unordered collections of distinct elements."
      ]
    },
    {
      "cell_type": "code",
      "execution_count": null,
      "metadata": {
        "id": "PLVSCskT3-zP"
      },
      "outputs": [],
      "source": [
        "# 14. How does the “in” keyword work differently for lists and dictionaries?\n",
        "# answer = the in operation for the dictionary tests on keys. The key of the dictionary is a unique value as well as the set, and the execution time is about the same as for sets. On the other hand, dictionary values can be duplicated like a list.\n"
      ]
    },
    {
      "cell_type": "code",
      "execution_count": null,
      "metadata": {
        "id": "zOivZGhy4hxT"
      },
      "outputs": [],
      "source": [
        "#15.Can you modify the elements of a tuple? Explain why or why not\n",
        "# answer =No, you cannot directly modify the elements of a tuple in Python after it's been created. Tuples are immutable, meaning their contents cannot be changed once they are defined. Trying to modify a tuple will result in a TypeError."
      ]
    },
    {
      "cell_type": "code",
      "execution_count": null,
      "metadata": {
        "id": "leyPM9n240Cv"
      },
      "outputs": [],
      "source": [
        "# 16.What is a nested dictionary, and give an example of its use case?\n",
        "#answer =A nested dictionary in Python is a dictionary where the values are themselves dictionaries. This allows for the creation of a hierarchical structure where data can be organized into multiple levels. A common use case for nested dictionaries is representing complex, multi-layered data, such as employee information with nested address and contact details."
      ]
    },
    {
      "cell_type": "code",
      "execution_count": null,
      "metadata": {
        "id": "H0sCHj7n5cKF"
      },
      "outputs": [],
      "source": [
        "# 17. Describe the time complexity of accessing elements in a dictionary?\n",
        "#answer= Accessing an element in a dictionary using its key typically has a time complexity of O(1) on average, meaning it takes constant time, regardless of the dictionary's size. However, in the worst-case scenario, it can degrade to O(n), where n is the number of key-value pairs, if there are many hash collisions."
      ]
    },
    {
      "cell_type": "code",
      "execution_count": null,
      "metadata": {
        "id": "pJy5Yimg9BOl"
      },
      "outputs": [],
      "source": [
        "#18. In what situations are lists preferred over dictionaries?\n",
        "#answer = For quick data look-ups, configurations, or caches, favor dictionaries. For ordered collections and sequence operations, such as maintaining a stack or queue, lists are more suitable."
      ]
    },
    {
      "cell_type": "code",
      "execution_count": null,
      "metadata": {
        "id": "-cJo4jwc9gu0"
      },
      "outputs": [],
      "source": [
        "# 19. Why are dictionaries considered unordered, and how does that affect data retrieval?\n",
        "#answer Dictionary is a data structure which is a important value structure, optimized for fast storage and recovery based on key. In python, dictionaries are un-ordered because Python dictionaries are not intended to be in order, as simple as that.24 Oct 2018"
      ]
    },
    {
      "cell_type": "code",
      "execution_count": null,
      "metadata": {
        "id": "UWHktmZR93g0"
      },
      "outputs": [],
      "source": [
        "# 20. Explain the difference between a list and a dictionary in terms of data retrieval.\n",
        "#answer = n terms of data retrieval, a dictionary offers significantly faster lookup of values based on unique keys compared to a list, which relies on numerical indices. Dictionaries, using a hash table, can find values associated with a key in an average of O(1) (constant) time, while lists, requiring sequential searching, have an average time complexity of O(n) (linear).\n"
      ]
    },
    {
      "cell_type": "markdown",
      "metadata": {
        "id": "tN-r-0Tq-Xpv"
      },
      "source": [
        "practical"
      ]
    },
    {
      "cell_type": "markdown",
      "metadata": {
        "id": "BnSRe5Pp-yN7"
      },
      "source": [
        "1.Write a code to create a string with your name and print it."
      ]
    },
    {
      "cell_type": "code",
      "execution_count": null,
      "metadata": {
        "id": "okw-98xY-7uN"
      },
      "outputs": [],
      "source": [
        "a=\"namita\""
      ]
    },
    {
      "cell_type": "code",
      "execution_count": null,
      "metadata": {
        "colab": {
          "base_uri": "https://localhost:8080/"
        },
        "id": "sfSm-Aaw_Hcw",
        "outputId": "74cb139f-5ced-4661-c5f1-51a7a6e522b6"
      },
      "outputs": [
        {
          "name": "stdout",
          "output_type": "stream",
          "text": [
            "namita\n"
          ]
        }
      ],
      "source": [
        "print(a)"
      ]
    },
    {
      "cell_type": "markdown",
      "metadata": {
        "id": "GDuDIH0XBLSz"
      },
      "source": [
        "2.Write a code to find the length of the string \"Hello World\"."
      ]
    },
    {
      "cell_type": "code",
      "execution_count": null,
      "metadata": {
        "id": "pTuDb0fX_Isx"
      },
      "outputs": [],
      "source": [
        "s=\"hello world\""
      ]
    },
    {
      "cell_type": "code",
      "execution_count": null,
      "metadata": {
        "colab": {
          "base_uri": "https://localhost:8080/"
        },
        "id": "opi0fNgxBcOF",
        "outputId": "168e7905-3fec-4da5-8618-eeb28054fb2c"
      },
      "outputs": [
        {
          "data": {
            "text/plain": [
              "11"
            ]
          },
          "execution_count": 25,
          "metadata": {},
          "output_type": "execute_result"
        }
      ],
      "source": [
        "len(s)"
      ]
    },
    {
      "cell_type": "markdown",
      "metadata": {
        "id": "2AcZjFHEBn2Q"
      },
      "source": [
        "3.Write a code to slice the first 3 characters from the string \"Python Programming\""
      ]
    },
    {
      "cell_type": "code",
      "execution_count": null,
      "metadata": {
        "id": "cvklntAkB7Oh"
      },
      "outputs": [],
      "source": [
        "slicing=\"Python Programming\""
      ]
    },
    {
      "cell_type": "code",
      "execution_count": null,
      "metadata": {
        "colab": {
          "base_uri": "https://localhost:8080/",
          "height": 36
        },
        "id": "swYjGmKaD4nh",
        "outputId": "553450e8-ab02-4314-9c9c-1567b793e3eb"
      },
      "outputs": [
        {
          "data": {
            "application/vnd.google.colaboratory.intrinsic+json": {
              "type": "string"
            },
            "text/plain": [
              "'Python Programming'"
            ]
          },
          "execution_count": 28,
          "metadata": {},
          "output_type": "execute_result"
        }
      ],
      "source": [
        "slicing"
      ]
    },
    {
      "cell_type": "code",
      "execution_count": null,
      "metadata": {
        "colab": {
          "base_uri": "https://localhost:8080/",
          "height": 36
        },
        "id": "6yzKxX9eD53O",
        "outputId": "ff5cf892-4db5-4e54-cb0a-8f1a53168aa5"
      },
      "outputs": [
        {
          "data": {
            "application/vnd.google.colaboratory.intrinsic+json": {
              "type": "string"
            },
            "text/plain": [
              "'Pyt'"
            ]
          },
          "execution_count": 30,
          "metadata": {},
          "output_type": "execute_result"
        }
      ],
      "source": [
        "slicing[0:3]"
      ]
    },
    {
      "cell_type": "markdown",
      "metadata": {
        "id": "qrSf8OusENil"
      },
      "source": [
        "4.Write a code to convert the string \"hello\" to uppercase."
      ]
    },
    {
      "cell_type": "code",
      "execution_count": null,
      "metadata": {
        "id": "3jjVbqfQEQTc"
      },
      "outputs": [],
      "source": [
        "text=\"hello\""
      ]
    },
    {
      "cell_type": "code",
      "execution_count": null,
      "metadata": {
        "colab": {
          "base_uri": "https://localhost:8080/",
          "height": 36
        },
        "id": "7RrqMVSBE1VH",
        "outputId": "33b07dbd-a5a2-4fa1-88a9-1f8f885ba3f8"
      },
      "outputs": [
        {
          "data": {
            "application/vnd.google.colaboratory.intrinsic+json": {
              "type": "string"
            },
            "text/plain": [
              "'hello'"
            ]
          },
          "execution_count": 32,
          "metadata": {},
          "output_type": "execute_result"
        }
      ],
      "source": [
        "text"
      ]
    },
    {
      "cell_type": "code",
      "execution_count": null,
      "metadata": {
        "colab": {
          "base_uri": "https://localhost:8080/",
          "height": 36
        },
        "id": "1rSAuSCYE2Uv",
        "outputId": "55f83367-8840-4d6b-e955-f3c4553c1b33"
      },
      "outputs": [
        {
          "data": {
            "application/vnd.google.colaboratory.intrinsic+json": {
              "type": "string"
            },
            "text/plain": [
              "'HELLO'"
            ]
          },
          "execution_count": 33,
          "metadata": {},
          "output_type": "execute_result"
        }
      ],
      "source": [
        "text.upper()"
      ]
    },
    {
      "cell_type": "code",
      "execution_count": null,
      "metadata": {
        "id": "fn9WioMWE6vc"
      },
      "outputs": [],
      "source": []
    },
    {
      "cell_type": "markdown",
      "metadata": {
        "id": "ngaUPVNMFLEi"
      },
      "source": [
        "5.Write a code to replace the word \"apple\" with \"orange\" in the string \"I like apple\""
      ]
    },
    {
      "cell_type": "code",
      "execution_count": null,
      "metadata": {
        "id": "k5UtXxCnFQdd"
      },
      "outputs": [],
      "source": [
        "  fruits = \"i like orange\""
      ]
    },
    {
      "cell_type": "code",
      "execution_count": null,
      "metadata": {
        "colab": {
          "base_uri": "https://localhost:8080/",
          "height": 36
        },
        "id": "anrnE6djFosf",
        "outputId": "73411621-27c9-4fba-ab67-3b6c59f1b5d4"
      },
      "outputs": [
        {
          "data": {
            "application/vnd.google.colaboratory.intrinsic+json": {
              "type": "string"
            },
            "text/plain": [
              "'i like orange'"
            ]
          },
          "execution_count": 35,
          "metadata": {},
          "output_type": "execute_result"
        }
      ],
      "source": [
        "fruits"
      ]
    },
    {
      "cell_type": "code",
      "execution_count": null,
      "metadata": {
        "colab": {
          "base_uri": "https://localhost:8080/",
          "height": 36
        },
        "id": "MPAelmssFqxH",
        "outputId": "c9fe527c-747b-4ecb-c235-2319fc8c5c90"
      },
      "outputs": [
        {
          "data": {
            "application/vnd.google.colaboratory.intrinsic+json": {
              "type": "string"
            },
            "text/plain": [
              "'i like apple'"
            ]
          },
          "execution_count": 38,
          "metadata": {},
          "output_type": "execute_result"
        }
      ],
      "source": [
        "fruits.replace(\"orange\",\"apple\")"
      ]
    },
    {
      "cell_type": "code",
      "execution_count": null,
      "metadata": {
        "id": "YjS7va3IHDAB"
      },
      "outputs": [],
      "source": []
    },
    {
      "cell_type": "markdown",
      "metadata": {
        "id": "8czSzvFeH5vh"
      },
      "source": [
        "6.Write a code to create a list with numbers 1 to 5 and print it."
      ]
    },
    {
      "cell_type": "code",
      "execution_count": null,
      "metadata": {
        "id": "IdAkILyiIB8h"
      },
      "outputs": [],
      "source": [
        "lis=[1,2,3,4,5]"
      ]
    },
    {
      "cell_type": "code",
      "execution_count": null,
      "metadata": {
        "id": "6UQeJK5gIG5d"
      },
      "outputs": [],
      "source": []
    },
    {
      "cell_type": "markdown",
      "metadata": {
        "id": "kcOz0JjBiKFJ"
      },
      "source": [
        "7.Write a code to append the number 10 to the list [1, 2, 3, 4]."
      ]
    },
    {
      "cell_type": "code",
      "execution_count": null,
      "metadata": {
        "id": "S2hUUEcIiPN_"
      },
      "outputs": [],
      "source": [
        "l =[1,2,3,4]"
      ]
    },
    {
      "cell_type": "code",
      "execution_count": null,
      "metadata": {
        "id": "DMo1cGCZiXDr"
      },
      "outputs": [],
      "source": [
        "l.append (10)\n"
      ]
    },
    {
      "cell_type": "code",
      "execution_count": null,
      "metadata": {
        "colab": {
          "base_uri": "https://localhost:8080/"
        },
        "id": "CxMU-K2Zicq1",
        "outputId": "e235b09d-e477-4e9a-d1ac-58250b462397"
      },
      "outputs": [
        {
          "data": {
            "text/plain": [
              "[1, 2, 3, 4, 10]"
            ]
          },
          "execution_count": 5,
          "metadata": {},
          "output_type": "execute_result"
        }
      ],
      "source": [
        "l"
      ]
    },
    {
      "cell_type": "code",
      "execution_count": null,
      "metadata": {
        "id": "grKPazQiim7y"
      },
      "outputs": [],
      "source": []
    },
    {
      "cell_type": "markdown",
      "metadata": {
        "id": "wFLh5BRliv0E"
      },
      "source": [
        "8.Write a code to remove the number 3 from the list [1, 2, 3, 4, 5].\n"
      ]
    },
    {
      "cell_type": "code",
      "execution_count": null,
      "metadata": {
        "id": "d6aL7bggi0BX"
      },
      "outputs": [],
      "source": [
        "a = [1,2,3,4,5]"
      ]
    },
    {
      "cell_type": "code",
      "execution_count": null,
      "metadata": {
        "colab": {
          "base_uri": "https://localhost:8080/"
        },
        "id": "jJXomDdVi5kq",
        "outputId": "b07bd59e-e3c2-4b08-f0c1-97e594c4e760"
      },
      "outputs": [
        {
          "data": {
            "text/plain": [
              "[1, 2, 3, 4, 5]"
            ]
          },
          "execution_count": 9,
          "metadata": {},
          "output_type": "execute_result"
        }
      ],
      "source": [
        "a"
      ]
    },
    {
      "cell_type": "code",
      "execution_count": null,
      "metadata": {
        "id": "YFqtWg9ZjD-c"
      },
      "outputs": [],
      "source": [
        "a.remove (3)"
      ]
    },
    {
      "cell_type": "code",
      "execution_count": null,
      "metadata": {
        "colab": {
          "base_uri": "https://localhost:8080/"
        },
        "id": "H1tEhJTljIOf",
        "outputId": "4a8ff3f5-b576-445c-c935-4601244fc6a6"
      },
      "outputs": [
        {
          "data": {
            "text/plain": [
              "[1, 2, 4, 5]"
            ]
          },
          "execution_count": 11,
          "metadata": {},
          "output_type": "execute_result"
        }
      ],
      "source": [
        "a"
      ]
    },
    {
      "cell_type": "code",
      "execution_count": null,
      "metadata": {
        "id": "sQuuYVAWjI0c"
      },
      "outputs": [],
      "source": []
    },
    {
      "cell_type": "markdown",
      "metadata": {
        "id": "P1sN4QR9jKFQ"
      },
      "source": [
        "9.Write a code to access the second element in the list ['a', 'b', 'c', 'd']"
      ]
    },
    {
      "cell_type": "code",
      "execution_count": null,
      "metadata": {
        "id": "bnYKkf8AjRNN"
      },
      "outputs": [],
      "source": [
        "alpha =[\"a\",\"b\",\"c\",\"d\"]"
      ]
    },
    {
      "cell_type": "code",
      "execution_count": null,
      "metadata": {
        "colab": {
          "base_uri": "https://localhost:8080/"
        },
        "id": "3fi6Wf_zjXBz",
        "outputId": "30daf329-a14e-444c-81d8-8baf313238fe"
      },
      "outputs": [
        {
          "data": {
            "text/plain": [
              "['a', 'b', 'c', 'd']"
            ]
          },
          "execution_count": 16,
          "metadata": {},
          "output_type": "execute_result"
        }
      ],
      "source": [
        "alpha"
      ]
    },
    {
      "cell_type": "code",
      "execution_count": null,
      "metadata": {
        "colab": {
          "base_uri": "https://localhost:8080/",
          "height": 36
        },
        "id": "kp3G-1y0joEm",
        "outputId": "a0a8cab7-ad29-48c1-fac6-c6716dc51e0c"
      },
      "outputs": [
        {
          "data": {
            "application/vnd.google.colaboratory.intrinsic+json": {
              "type": "string"
            },
            "text/plain": [
              "'b'"
            ]
          },
          "execution_count": 18,
          "metadata": {},
          "output_type": "execute_result"
        }
      ],
      "source": [
        "alpha[1]"
      ]
    },
    {
      "cell_type": "markdown",
      "metadata": {
        "id": "fok8ySWlj5ef"
      },
      "source": [
        "10. Write a code to reverse the list [10, 20, 30, 40, 50]."
      ]
    },
    {
      "cell_type": "markdown",
      "metadata": {
        "id": "p3r-GG14j36X"
      },
      "source": []
    },
    {
      "cell_type": "code",
      "execution_count": null,
      "metadata": {
        "id": "_gDN69X2kA_D"
      },
      "outputs": [],
      "source": [
        "lis = [10,20,30,40,50]"
      ]
    },
    {
      "cell_type": "code",
      "execution_count": null,
      "metadata": {
        "colab": {
          "base_uri": "https://localhost:8080/"
        },
        "id": "DiFMl9GukGhi",
        "outputId": "1dfcf7ac-d029-453f-adf2-896b2d21ded3"
      },
      "outputs": [
        {
          "data": {
            "text/plain": [
              "[10, 20, 30, 40, 50]"
            ]
          },
          "execution_count": 20,
          "metadata": {},
          "output_type": "execute_result"
        }
      ],
      "source": [
        "lis"
      ]
    },
    {
      "cell_type": "code",
      "execution_count": null,
      "metadata": {
        "id": "YphUsumhkIGt"
      },
      "outputs": [],
      "source": [
        "lis.reverse()"
      ]
    },
    {
      "cell_type": "code",
      "execution_count": null,
      "metadata": {
        "colab": {
          "base_uri": "https://localhost:8080/"
        },
        "id": "2nYOvxDVkK3T",
        "outputId": "e974d359-ec1a-4fe2-9105-d4a9ef595c91"
      },
      "outputs": [
        {
          "data": {
            "text/plain": [
              "[50, 40, 30, 20, 10]"
            ]
          },
          "execution_count": 22,
          "metadata": {},
          "output_type": "execute_result"
        }
      ],
      "source": [
        "lis"
      ]
    },
    {
      "cell_type": "code",
      "execution_count": null,
      "metadata": {
        "id": "8RDfAw72kNEI"
      },
      "outputs": [],
      "source": []
    },
    {
      "cell_type": "markdown",
      "metadata": {
        "id": "xQ4tLzoykS-I"
      },
      "source": [
        "11.Write a code to create a tuple with the elements 100, 200, 300 and print it."
      ]
    },
    {
      "cell_type": "code",
      "execution_count": null,
      "metadata": {
        "id": "o8nt6sJGkVEt"
      },
      "outputs": [],
      "source": [
        "tup = (100,200,300)"
      ]
    },
    {
      "cell_type": "code",
      "execution_count": null,
      "metadata": {
        "colab": {
          "base_uri": "https://localhost:8080/"
        },
        "id": "K2XqZ0omkZN3",
        "outputId": "8b214e7a-92bf-4b37-b83a-98a87616c3b3"
      },
      "outputs": [
        {
          "name": "stdout",
          "output_type": "stream",
          "text": [
            "(100, 200, 300)\n"
          ]
        }
      ],
      "source": [
        "print(tup)"
      ]
    },
    {
      "cell_type": "code",
      "execution_count": null,
      "metadata": {
        "id": "WC1CN2z1ka9u"
      },
      "outputs": [],
      "source": []
    },
    {
      "cell_type": "markdown",
      "metadata": {
        "id": "cn5WkIodkcks"
      },
      "source": [
        "12.Write a code to access the second-to-last element of the tuple ('red', 'green', 'blue', 'yellow')."
      ]
    },
    {
      "cell_type": "code",
      "execution_count": null,
      "metadata": {
        "id": "4A3LRA41khd-"
      },
      "outputs": [],
      "source": [
        "T = (\"red\",\"green\",\"blue\",\"yellow\")"
      ]
    },
    {
      "cell_type": "code",
      "execution_count": null,
      "metadata": {
        "colab": {
          "base_uri": "https://localhost:8080/"
        },
        "id": "pP2IpWjekneV",
        "outputId": "b53ed5c0-b0fe-4c1c-b872-748546bff100"
      },
      "outputs": [
        {
          "data": {
            "text/plain": [
              "('red', 'green', 'blue', 'yellow')"
            ]
          },
          "execution_count": 26,
          "metadata": {},
          "output_type": "execute_result"
        }
      ],
      "source": [
        "T"
      ]
    },
    {
      "cell_type": "code",
      "execution_count": null,
      "metadata": {
        "colab": {
          "base_uri": "https://localhost:8080/"
        },
        "id": "zzP1P_2hkowe",
        "outputId": "9b648648-307a-4fb9-d0a6-536ba3b8e890"
      },
      "outputs": [
        {
          "data": {
            "text/plain": [
              "('blue', 'yellow')"
            ]
          },
          "execution_count": 28,
          "metadata": {},
          "output_type": "execute_result"
        }
      ],
      "source": [
        "T [2 :]"
      ]
    },
    {
      "cell_type": "code",
      "execution_count": null,
      "metadata": {
        "id": "3nPFsEitkuRz"
      },
      "outputs": [],
      "source": []
    },
    {
      "cell_type": "markdown",
      "metadata": {
        "id": "CV0eJ5bgk2b5"
      },
      "source": [
        "13.Write a code to find the minimum number in the tuple (10, 20, 5, 15)."
      ]
    },
    {
      "cell_type": "code",
      "execution_count": null,
      "metadata": {
        "id": "2pCK30Tvk62u"
      },
      "outputs": [],
      "source": [
        "range = (10,20,5,15)"
      ]
    },
    {
      "cell_type": "code",
      "execution_count": null,
      "metadata": {
        "colab": {
          "base_uri": "https://localhost:8080/"
        },
        "id": "PTFQ87KflCvh",
        "outputId": "dced9b15-a5f9-4dfc-8d01-442729539721"
      },
      "outputs": [
        {
          "data": {
            "text/plain": [
              "(10, 20, 5, 15)"
            ]
          },
          "execution_count": 30,
          "metadata": {},
          "output_type": "execute_result"
        }
      ],
      "source": [
        "range"
      ]
    },
    {
      "cell_type": "code",
      "execution_count": null,
      "metadata": {
        "colab": {
          "base_uri": "https://localhost:8080/"
        },
        "id": "-OoTB98VlEXD",
        "outputId": "3230227c-876e-4279-eda2-8e14cb1c9654"
      },
      "outputs": [
        {
          "data": {
            "text/plain": [
              "5"
            ]
          },
          "execution_count": 33,
          "metadata": {},
          "output_type": "execute_result"
        }
      ],
      "source": [
        "min(range)"
      ]
    },
    {
      "cell_type": "code",
      "execution_count": null,
      "metadata": {
        "id": "ycIDCa6XlHmt"
      },
      "outputs": [],
      "source": []
    },
    {
      "cell_type": "markdown",
      "metadata": {
        "id": "SiuG2bUvlY6i"
      },
      "source": [
        "14.Write a code to find the index of the element \"cat\" in the tuple ('dog', 'cat', 'rabbit')."
      ]
    },
    {
      "cell_type": "code",
      "execution_count": 2,
      "metadata": {
        "id": "C-eUAqVsmGtJ"
      },
      "outputs": [],
      "source": [
        "tuple1= (\"dog\",\"cat\",\"rabbit\")"
      ]
    },
    {
      "cell_type": "code",
      "source": [
        "tuple1"
      ],
      "metadata": {
        "colab": {
          "base_uri": "https://localhost:8080/"
        },
        "id": "WLDehGqLurSn",
        "outputId": "d72aa92e-d0c5-4540-cdac-880f8f7c3685"
      },
      "execution_count": 3,
      "outputs": [
        {
          "output_type": "execute_result",
          "data": {
            "text/plain": [
              "('dog', 'cat', 'rabbit')"
            ]
          },
          "metadata": {},
          "execution_count": 3
        }
      ]
    },
    {
      "cell_type": "code",
      "source": [
        "tuple1.index(\"cat\")"
      ],
      "metadata": {
        "colab": {
          "base_uri": "https://localhost:8080/"
        },
        "id": "JdP5iTkiuyXI",
        "outputId": "65dfd7f5-a31c-480f-c678-c55faa7be441"
      },
      "execution_count": 8,
      "outputs": [
        {
          "output_type": "execute_result",
          "data": {
            "text/plain": [
              "1"
            ]
          },
          "metadata": {},
          "execution_count": 8
        }
      ]
    },
    {
      "cell_type": "code",
      "source": [],
      "metadata": {
        "id": "_ewHh_j4u0l4"
      },
      "execution_count": null,
      "outputs": []
    },
    {
      "cell_type": "markdown",
      "source": [
        "15. Write a code to create a tuple containing three different fruits and check if \"kiwi\" is in it.\n",
        "\n"
      ],
      "metadata": {
        "id": "2t_QKCUrvLlP"
      }
    },
    {
      "cell_type": "code",
      "source": [
        "fruits = (\"apple\",\"banana\",\"kiwi\")"
      ],
      "metadata": {
        "id": "OcekJbMtvMha"
      },
      "execution_count": 9,
      "outputs": []
    },
    {
      "cell_type": "code",
      "source": [
        "\"kiwi\" in fruits"
      ],
      "metadata": {
        "colab": {
          "base_uri": "https://localhost:8080/"
        },
        "id": "t27bu_McvRxo",
        "outputId": "62e90b18-4704-4a5e-d710-380f2375ce3d"
      },
      "execution_count": 10,
      "outputs": [
        {
          "output_type": "execute_result",
          "data": {
            "text/plain": [
              "True"
            ]
          },
          "metadata": {},
          "execution_count": 10
        }
      ]
    },
    {
      "cell_type": "markdown",
      "source": [
        " 16.Write a code to create a set with the elements 'a', 'b', 'c' and print it."
      ],
      "metadata": {
        "id": "L8IMuMp9vkV3"
      }
    },
    {
      "cell_type": "code",
      "source": [
        "set1 = {\"a\",\"b\",\"c\"}"
      ],
      "metadata": {
        "id": "hRqxNeuYvnAZ"
      },
      "execution_count": 16,
      "outputs": []
    },
    {
      "cell_type": "code",
      "source": [
        "print(set1)"
      ],
      "metadata": {
        "colab": {
          "base_uri": "https://localhost:8080/"
        },
        "id": "FCz6tfwKvtZn",
        "outputId": "32d92760-d6cf-4e28-c965-2fde42292673"
      },
      "execution_count": 18,
      "outputs": [
        {
          "output_type": "stream",
          "name": "stdout",
          "text": [
            "{'b', 'c', 'a'}\n"
          ]
        }
      ]
    },
    {
      "cell_type": "markdown",
      "source": [
        "17.Write a code to clear all elements from the set {1, 2, 3, 4, 5}."
      ],
      "metadata": {
        "id": "i26W8nRWwFjJ"
      }
    },
    {
      "cell_type": "code",
      "source": [
        "my_set = {1, 2, 3, 4, 5}\n",
        "my_set.clear()\n",
        "print(my_set)"
      ],
      "metadata": {
        "colab": {
          "base_uri": "https://localhost:8080/"
        },
        "id": "KLvHDgkEwLSh",
        "outputId": "d7867b89-a9c8-4e37-fe7f-c30a1dd89bd7"
      },
      "execution_count": 19,
      "outputs": [
        {
          "output_type": "stream",
          "name": "stdout",
          "text": [
            "set()\n"
          ]
        }
      ]
    },
    {
      "cell_type": "markdown",
      "source": [],
      "metadata": {
        "id": "HGjP7pLQwKov"
      }
    },
    {
      "cell_type": "markdown",
      "source": [
        "18. Write a code to remove the element 4 from the set {1, 2, 3, 4}."
      ],
      "metadata": {
        "id": "ud40420swcqe"
      }
    },
    {
      "cell_type": "code",
      "source": [
        "set2 = {1,2,3,4}"
      ],
      "metadata": {
        "id": "kklI6HqAwjcd"
      },
      "execution_count": 20,
      "outputs": []
    },
    {
      "cell_type": "code",
      "source": [
        "set2.remove(4)"
      ],
      "metadata": {
        "id": "QmDZ1Z-_wnX0"
      },
      "execution_count": 22,
      "outputs": []
    },
    {
      "cell_type": "code",
      "source": [
        "set2"
      ],
      "metadata": {
        "colab": {
          "base_uri": "https://localhost:8080/"
        },
        "id": "M4SnaihkwtM3",
        "outputId": "dde2aa4a-a23b-4876-ce89-9309b86d1c56"
      },
      "execution_count": 23,
      "outputs": [
        {
          "output_type": "execute_result",
          "data": {
            "text/plain": [
              "{1, 2, 3}"
            ]
          },
          "metadata": {},
          "execution_count": 23
        }
      ]
    },
    {
      "cell_type": "markdown",
      "source": [
        "19. Write a code to find the union of two sets {1, 2, 3} and {3, 4, 5}."
      ],
      "metadata": {
        "id": "uqPfaX_Vw7qL"
      }
    },
    {
      "cell_type": "code",
      "source": [
        "set1 = {1, 2, 3}\n",
        "set2 = {3, 4, 5}\n",
        "union_result = set1.union(set2)\n",
        "print(union_result)"
      ],
      "metadata": {
        "colab": {
          "base_uri": "https://localhost:8080/"
        },
        "id": "0Zwcbxl7w8iU",
        "outputId": "65485772-d59f-4e3e-9a7d-5fdcc13da15c"
      },
      "execution_count": 26,
      "outputs": [
        {
          "output_type": "stream",
          "name": "stdout",
          "text": [
            "{1, 2, 3, 4, 5}\n"
          ]
        }
      ]
    },
    {
      "cell_type": "code",
      "source": [],
      "metadata": {
        "id": "AJ3B7R_ixIvR"
      },
      "execution_count": null,
      "outputs": []
    },
    {
      "cell_type": "markdown",
      "source": [
        "20.Write a code to find the intersection of two sets {1, 2, 3} and {2, 3, 4}."
      ],
      "metadata": {
        "id": "tzIbiv1Nxn0H"
      }
    },
    {
      "cell_type": "code",
      "source": [
        "set1 = {1, 2, 3}\n",
        "set2 = {2, 3, 4}\n",
        "intersection_set =set1. intersection( set2)\n",
        "print(intersection_set)"
      ],
      "metadata": {
        "colab": {
          "base_uri": "https://localhost:8080/"
        },
        "id": "So5QXjPixqV3",
        "outputId": "00292c6e-71f1-453e-9949-018f1f04c958"
      },
      "execution_count": 28,
      "outputs": [
        {
          "output_type": "stream",
          "name": "stdout",
          "text": [
            "{2, 3}\n"
          ]
        }
      ]
    },
    {
      "cell_type": "markdown",
      "source": [
        "21. Write a code to create a dictionary with the keys \"name\", \"age\", and \"city\", and print it."
      ],
      "metadata": {
        "id": "Y9hdxBKHyFQJ"
      }
    },
    {
      "cell_type": "markdown",
      "source": [],
      "metadata": {
        "id": "bBqMdiNmyChl"
      }
    },
    {
      "cell_type": "code",
      "source": [
        "dict1 = {\"name\":\"namita\",\"age\": 22 , \"city\":\"delhi\"}"
      ],
      "metadata": {
        "id": "ALhS97WyyIb8"
      },
      "execution_count": 29,
      "outputs": []
    },
    {
      "cell_type": "code",
      "source": [
        "print(dict1)"
      ],
      "metadata": {
        "colab": {
          "base_uri": "https://localhost:8080/"
        },
        "id": "5t9boJ5Tyezv",
        "outputId": "7385310f-0534-4ef9-f2db-50293ec07bf8"
      },
      "execution_count": 30,
      "outputs": [
        {
          "output_type": "stream",
          "name": "stdout",
          "text": [
            "{'name': 'namita', 'age': 22, 'city': 'delhi'}\n"
          ]
        }
      ]
    },
    {
      "cell_type": "code",
      "source": [],
      "metadata": {
        "id": "XWJK0lHayg_a"
      },
      "execution_count": null,
      "outputs": []
    },
    {
      "cell_type": "markdown",
      "source": [
        "22. Write a code to add a new key-value pair \"country\": \"USA\" to the dictionary {'name': 'John', 'age': 25}."
      ],
      "metadata": {
        "id": "PbE0_nnCylaO"
      }
    },
    {
      "cell_type": "code",
      "source": [
        "dict2 = {\"name\" : \"John\", \"age\" : 25, \"country\": \"USA\" }"
      ],
      "metadata": {
        "id": "Vje2RQYTymyl"
      },
      "execution_count": 33,
      "outputs": []
    },
    {
      "cell_type": "code",
      "source": [
        "dict2"
      ],
      "metadata": {
        "colab": {
          "base_uri": "https://localhost:8080/"
        },
        "id": "gl9X7OXNyxSF",
        "outputId": "2b761dae-a326-4cc3-ef39-7186513d4ccd"
      },
      "execution_count": 34,
      "outputs": [
        {
          "output_type": "execute_result",
          "data": {
            "text/plain": [
              "{'name': 'John', 'age': 25, 'country': 'USA'}"
            ]
          },
          "metadata": {},
          "execution_count": 34
        }
      ]
    },
    {
      "cell_type": "code",
      "source": [],
      "metadata": {
        "id": "T-J5IxDtzAdd"
      },
      "execution_count": null,
      "outputs": []
    },
    {
      "cell_type": "markdown",
      "source": [
        "23. Write a code to access the value associated with the key \"name\" in the dictionary {'name': 'Alice', 'age': 30}."
      ],
      "metadata": {
        "id": "JoBFbKrSzFMd"
      }
    },
    {
      "cell_type": "code",
      "source": [
        "person = {'name': 'Alice', 'age': 30}\n"
      ],
      "metadata": {
        "id": "raaphVaDzJsm"
      },
      "execution_count": 35,
      "outputs": []
    },
    {
      "cell_type": "code",
      "source": [
        "name = person['name']"
      ],
      "metadata": {
        "id": "_ndgeYREzkGf"
      },
      "execution_count": 37,
      "outputs": []
    },
    {
      "cell_type": "code",
      "source": [
        "print(name)"
      ],
      "metadata": {
        "colab": {
          "base_uri": "https://localhost:8080/"
        },
        "id": "FK1LePQ9zlPg",
        "outputId": "e445b948-91f6-46e3-9200-d6c7dcb66d10"
      },
      "execution_count": 38,
      "outputs": [
        {
          "output_type": "stream",
          "name": "stdout",
          "text": [
            "Alice\n"
          ]
        }
      ]
    },
    {
      "cell_type": "markdown",
      "source": [
        "24. Write a code to remove the key \"age\" from the dictionary {'name': 'Bob', 'age': 22, 'city': 'New York'}."
      ],
      "metadata": {
        "id": "pD2aXy2x0FEP"
      }
    },
    {
      "cell_type": "code",
      "source": [
        "person = {'name': 'Bob', 'age': 22, 'city': 'New York'}"
      ],
      "metadata": {
        "id": "ZzQ_Qj-q0GRJ"
      },
      "execution_count": 39,
      "outputs": []
    },
    {
      "cell_type": "code",
      "source": [
        "del person['age']"
      ],
      "metadata": {
        "id": "VZLq76F10Qif"
      },
      "execution_count": 40,
      "outputs": []
    },
    {
      "cell_type": "code",
      "source": [
        "print(person)"
      ],
      "metadata": {
        "colab": {
          "base_uri": "https://localhost:8080/"
        },
        "id": "Fh7uVEzH0aLQ",
        "outputId": "e0395107-2c1f-4bb9-e512-b473cf6fb694"
      },
      "execution_count": 41,
      "outputs": [
        {
          "output_type": "stream",
          "name": "stdout",
          "text": [
            "{'name': 'Bob', 'city': 'New York'}\n"
          ]
        }
      ]
    },
    {
      "cell_type": "code",
      "source": [],
      "metadata": {
        "id": "2iccPQqQ0dgg"
      },
      "execution_count": null,
      "outputs": []
    },
    {
      "cell_type": "markdown",
      "source": [
        "25. Write a code to check if the key \"city\" exists in the dictionary {'name': 'Alice', 'city': 'Paris'}."
      ],
      "metadata": {
        "id": "XjDI-RYY0hw-"
      }
    },
    {
      "cell_type": "code",
      "source": [
        "person = {\"name\": \"Alice\", \"city\": \"Paris\"}"
      ],
      "metadata": {
        "id": "KG0h5b6i0ihi"
      },
      "execution_count": 42,
      "outputs": []
    },
    {
      "cell_type": "code",
      "source": [
        "\"city\" in person"
      ],
      "metadata": {
        "colab": {
          "base_uri": "https://localhost:8080/"
        },
        "id": "zsaf0-jq0n2k",
        "outputId": "412a64f2-ebd2-488f-fa27-38323b304326"
      },
      "execution_count": 43,
      "outputs": [
        {
          "output_type": "execute_result",
          "data": {
            "text/plain": [
              "True"
            ]
          },
          "metadata": {},
          "execution_count": 43
        }
      ]
    },
    {
      "cell_type": "code",
      "source": [],
      "metadata": {
        "id": "lEq64Aeh0szp"
      },
      "execution_count": null,
      "outputs": []
    },
    {
      "cell_type": "markdown",
      "source": [
        "26. Write a code to create a list, a tuple, and a dictionary, and print them all."
      ],
      "metadata": {
        "id": "VOY42wlp0xCc"
      }
    },
    {
      "cell_type": "code",
      "source": [
        "list1 = [1,2,3,4, (1,2,34,4), {\"name\": \"namita\"}]"
      ],
      "metadata": {
        "id": "4Q6tikPf0yEw"
      },
      "execution_count": 44,
      "outputs": []
    },
    {
      "cell_type": "code",
      "source": [
        "list1"
      ],
      "metadata": {
        "colab": {
          "base_uri": "https://localhost:8080/"
        },
        "id": "-NvgDq15079b",
        "outputId": "b61ba1aa-5a17-437a-860b-51f2c72e4e18"
      },
      "execution_count": 45,
      "outputs": [
        {
          "output_type": "execute_result",
          "data": {
            "text/plain": [
              "[1, 2, 3, 4, (1, 2, 34, 4), {'name': 'namita'}]"
            ]
          },
          "metadata": {},
          "execution_count": 45
        }
      ]
    },
    {
      "cell_type": "code",
      "source": [],
      "metadata": {
        "id": "TrekP2ms09Ww"
      },
      "execution_count": null,
      "outputs": []
    },
    {
      "cell_type": "markdown",
      "source": [
        "27. Write a code to create a list of 5 random numbers between 1 and 100, sort it in ascending order, and print the\n",
        "result.(replaced)"
      ],
      "metadata": {
        "id": "41j12H_P1FLV"
      }
    },
    {
      "cell_type": "code",
      "source": [
        "list2 =[70,64,80,87,90]"
      ],
      "metadata": {
        "id": "W-yU7icb1GTB"
      },
      "execution_count": 46,
      "outputs": []
    },
    {
      "cell_type": "code",
      "source": [
        "list2.sort()"
      ],
      "metadata": {
        "id": "V3z_om8j1P1A"
      },
      "execution_count": 47,
      "outputs": []
    },
    {
      "cell_type": "code",
      "source": [
        "list2"
      ],
      "metadata": {
        "colab": {
          "base_uri": "https://localhost:8080/"
        },
        "id": "TtOQuHRy1cBT",
        "outputId": "a4e7a2d7-cf33-4926-8c00-6f6e59e17cf8"
      },
      "execution_count": 48,
      "outputs": [
        {
          "output_type": "execute_result",
          "data": {
            "text/plain": [
              "[64, 70, 80, 87, 90]"
            ]
          },
          "metadata": {},
          "execution_count": 48
        }
      ]
    },
    {
      "cell_type": "code",
      "source": [],
      "metadata": {
        "id": "oiF1x6dV1dOq"
      },
      "execution_count": null,
      "outputs": []
    },
    {
      "cell_type": "markdown",
      "source": [
        "28. Write a code to create a list with strings and print the element at the third index."
      ],
      "metadata": {
        "id": "0DRLsPBn1hXl"
      }
    },
    {
      "cell_type": "code",
      "source": [
        "fruits = ['Apple', 'Banana', 'Cherry', 'Date', 'Elderberry']\n"
      ],
      "metadata": {
        "id": "1qKhi0Uw1iK2"
      },
      "execution_count": 49,
      "outputs": []
    },
    {
      "cell_type": "code",
      "source": [
        "print(fruits[2])"
      ],
      "metadata": {
        "colab": {
          "base_uri": "https://localhost:8080/"
        },
        "id": "BYyt-zW51qdU",
        "outputId": "a1355a51-6499-4a62-9555-a9810f2aed31"
      },
      "execution_count": 50,
      "outputs": [
        {
          "output_type": "stream",
          "name": "stdout",
          "text": [
            "Cherry\n"
          ]
        }
      ]
    },
    {
      "cell_type": "code",
      "source": [],
      "metadata": {
        "id": "631uMqM51u8A"
      },
      "execution_count": null,
      "outputs": []
    },
    {
      "cell_type": "markdown",
      "source": [
        "29. Write a code to combine two dictionaries into one and print the result.\n",
        "\n"
      ],
      "metadata": {
        "id": "FQZkKxzH1zeD"
      }
    },
    {
      "cell_type": "code",
      "source": [
        "dict1 = {'name': 'Alice', 'age': 25}\n",
        "dict2 = {'city': 'Paris', 'country': 'France'}\n"
      ],
      "metadata": {
        "id": "vm_t_3E2101s"
      },
      "execution_count": 51,
      "outputs": []
    },
    {
      "cell_type": "code",
      "source": [
        "combined_dict = {**dict1, **dict2}"
      ],
      "metadata": {
        "id": "wT-g3u1S2E4u"
      },
      "execution_count": 52,
      "outputs": []
    },
    {
      "cell_type": "code",
      "source": [
        "print(combined_dict)"
      ],
      "metadata": {
        "colab": {
          "base_uri": "https://localhost:8080/"
        },
        "id": "Qb52uXKg2JAC",
        "outputId": "d072e56a-8443-4586-fcc0-97f0187075d4"
      },
      "execution_count": 53,
      "outputs": [
        {
          "output_type": "stream",
          "name": "stdout",
          "text": [
            "{'name': 'Alice', 'age': 25, 'city': 'Paris', 'country': 'France'}\n"
          ]
        }
      ]
    },
    {
      "cell_type": "code",
      "source": [],
      "metadata": {
        "id": "SlISugNj2Nn6"
      },
      "execution_count": null,
      "outputs": []
    },
    {
      "cell_type": "markdown",
      "source": [
        "30. Write a code to convert a list of strings into a set."
      ],
      "metadata": {
        "id": "YZyFtRDA2Sc_"
      }
    },
    {
      "cell_type": "code",
      "source": [
        "string_list = ['apple', 'banana', 'apple', 'orange', 'banana']\n",
        "\n",
        "string_set = set(string_list)\n",
        "print(string_set)"
      ],
      "metadata": {
        "colab": {
          "base_uri": "https://localhost:8080/"
        },
        "id": "ET1Z_uDN2Taa",
        "outputId": "95250b6b-b5e4-42b6-cb96-343d13bb5767"
      },
      "execution_count": 54,
      "outputs": [
        {
          "output_type": "stream",
          "name": "stdout",
          "text": [
            "{'apple', 'orange', 'banana'}\n"
          ]
        }
      ]
    },
    {
      "cell_type": "code",
      "source": [],
      "metadata": {
        "id": "gFlyCjO32e92"
      },
      "execution_count": null,
      "outputs": []
    }
  ],
  "metadata": {
    "colab": {
      "provenance": []
    },
    "kernelspec": {
      "display_name": "Python 3",
      "name": "python3"
    },
    "language_info": {
      "name": "python"
    }
  },
  "nbformat": 4,
  "nbformat_minor": 0
}